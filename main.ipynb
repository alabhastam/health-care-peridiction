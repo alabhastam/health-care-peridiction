{
 "cells": [
  {
   "cell_type": "code",
   "execution_count": 2,
   "id": "e46a012f-6fc2-46c3-b69a-c3c9257fa0da",
   "metadata": {},
   "outputs": [],
   "source": [
    "import pandas as pd\n",
    "import numpy as np\n",
    "import matplotlib.pyplot as plt\n",
    "import seaborn as sns\n",
    "\n",
    "from sklearn.model_selection import train_test_split\n",
    "from sklearn.preprocessing import StandardScaler\n",
    "from sklearn.metrics import mean_absolute_error\n",
    "\n",
    "import tensorflow as tf\n",
    "from tensorflow import keras\n",
    "from tensorflow.keras import layers\n",
    "\n",
    "# Load dataset\n",
    "data = pd.read_csv(\"insurance.csv\")  # Update with your actual filename if needed\n"
   ]
  },
  {
   "cell_type": "code",
   "execution_count": null,
   "id": "85924882-c5a0-47d5-9358-635e54493dc1",
   "metadata": {},
   "outputs": [],
   "source": [
    "data = pd.get_dummies(data, )"
   ]
  }
 ],
 "metadata": {
  "kernelspec": {
   "display_name": "Python [conda env:base] *",
   "language": "python",
   "name": "conda-base-py"
  },
  "language_info": {
   "codemirror_mode": {
    "name": "ipython",
    "version": 3
   },
   "file_extension": ".py",
   "mimetype": "text/x-python",
   "name": "python",
   "nbconvert_exporter": "python",
   "pygments_lexer": "ipython3",
   "version": "3.12.7"
  }
 },
 "nbformat": 4,
 "nbformat_minor": 5
}
